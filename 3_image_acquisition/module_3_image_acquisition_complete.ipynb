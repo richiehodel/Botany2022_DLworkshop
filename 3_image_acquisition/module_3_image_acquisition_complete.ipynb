{
 "cells": [
  {
   "cell_type": "markdown",
   "id": "95b6619b",
   "metadata": {
    "id": "95b6619b"
   },
   "source": [
    "# Acquiring images (Module 3)\n",
    "\n",
    "This notebook is designed to be a standalone tutorial demonstrating how you can acquire images from the [iDigBio portal](https://www.idigbio.org/portal/search) based on your own research scope. For the remainder of the lessons in today's workshop we will be using a standard set of images provided by the workshop instructors. This module will show you how that set of images was originally acquired, and provide an opportunity for you to test out downloading images yourself.\n",
    "\n",
    "Our goals are for you to be able to:\n",
    "1. Define search parameters\n",
    "1. Retrieve specimen media records that meet those parameters\n",
    "1. Download media associated with those specimen records\n",
    "1. Review media and conduct quality control\n",
    "\n",
    "We will be accessing data from the iDigBio Portal via an Application Programming Interface (API). All that you need to know about APIs for this workshop is that they are essentially a way for an organization to allow external users to interact with their systems. If you would like a slightly more detailed overview, check out this video on [Reading data directly into your analysis script: Introduction to APIs](https://vimeo.com/444924504)."
   ]
  },
  {
   "cell_type": "markdown",
   "id": "58af847f",
   "metadata": {
    "id": "58af847f"
   },
   "source": [
    "Before we begin, you will need to install the following packages if you have not already:"
   ]
  },
  {
   "cell_type": "code",
   "execution_count": 1,
   "id": "a29fcccf",
   "metadata": {
    "colab": {
     "base_uri": "https://localhost:8080/"
    },
    "id": "a29fcccf",
    "outputId": "a32b54ba-448f-40f6-83a1-f9a9d41e2b70"
   },
   "outputs": [
    {
     "name": "stdout",
     "output_type": "stream",
     "text": [
      "Requirement already satisfied: idigbio in /usr/local/lib/python3.7/dist-packages (0.8.5)\n",
      "Requirement already satisfied: requests in /usr/local/lib/python3.7/dist-packages (from idigbio) (2.23.0)\n",
      "Requirement already satisfied: idna<3,>=2.5 in /usr/local/lib/python3.7/dist-packages (from requests->idigbio) (2.10)\n",
      "Requirement already satisfied: chardet<4,>=3.0.2 in /usr/local/lib/python3.7/dist-packages (from requests->idigbio) (3.0.4)\n",
      "Requirement already satisfied: urllib3!=1.25.0,!=1.25.1,<1.26,>=1.21.1 in /usr/local/lib/python3.7/dist-packages (from requests->idigbio) (1.24.3)\n",
      "Requirement already satisfied: certifi>=2017.4.17 in /usr/local/lib/python3.7/dist-packages (from requests->idigbio) (2021.5.30)\n"
     ]
    }
   ],
   "source": [
    "pip install idigbio"
   ]
  },
  {
   "cell_type": "code",
   "execution_count": 2,
   "id": "f555eb36",
   "metadata": {
    "colab": {
     "base_uri": "https://localhost:8080/"
    },
    "id": "f555eb36",
    "outputId": "6cf0b4df-b1eb-4eba-dc83-7fc60a8adfe3"
   },
   "outputs": [
    {
     "name": "stdout",
     "output_type": "stream",
     "text": [
      "Requirement already satisfied: pandas in /usr/local/lib/python3.7/dist-packages (1.1.5)\n",
      "Requirement already satisfied: python-dateutil>=2.7.3 in /usr/local/lib/python3.7/dist-packages (from pandas) (2.8.1)\n",
      "Requirement already satisfied: pytz>=2017.2 in /usr/local/lib/python3.7/dist-packages (from pandas) (2018.9)\n",
      "Requirement already satisfied: numpy>=1.15.4 in /usr/local/lib/python3.7/dist-packages (from pandas) (1.19.5)\n",
      "Requirement already satisfied: six>=1.5 in /usr/local/lib/python3.7/dist-packages (from python-dateutil>=2.7.3->pandas) (1.15.0)\n"
     ]
    }
   ],
   "source": [
    "pip install pandas"
   ]
  },
  {
   "cell_type": "code",
   "execution_count": 3,
   "id": "34669871",
   "metadata": {
    "colab": {
     "base_uri": "https://localhost:8080/"
    },
    "id": "34669871",
    "outputId": "323cbaed-7f28-4d0d-9ff8-6af198d155c1"
   },
   "outputs": [
    {
     "name": "stdout",
     "output_type": "stream",
     "text": [
      "Requirement already satisfied: requests in /usr/local/lib/python3.7/dist-packages (2.23.0)\n",
      "Requirement already satisfied: chardet<4,>=3.0.2 in /usr/local/lib/python3.7/dist-packages (from requests) (3.0.4)\n",
      "Requirement already satisfied: idna<3,>=2.5 in /usr/local/lib/python3.7/dist-packages (from requests) (2.10)\n",
      "Requirement already satisfied: urllib3!=1.25.0,!=1.25.1,<1.26,>=1.21.1 in /usr/local/lib/python3.7/dist-packages (from requests) (1.24.3)\n",
      "Requirement already satisfied: certifi>=2017.4.17 in /usr/local/lib/python3.7/dist-packages (from requests) (2021.5.30)\n"
     ]
    }
   ],
   "source": [
    "pip install requests"
   ]
  },
  {
   "cell_type": "markdown",
   "id": "QsznIPp4R3SZ",
   "metadata": {
    "id": "QsznIPp4R3SZ"
   },
   "source": [
    "We also need to connect Google Colab to our Google Drive. When you run the code block below, you will be prompted to sign in to a Google account and get a key code (opens in a new tab) to paste into this notebook."
   ]
  },
  {
   "cell_type": "code",
   "execution_count": 4,
   "id": "yWuQXElMKH52",
   "metadata": {
    "colab": {
     "base_uri": "https://localhost:8080/"
    },
    "id": "yWuQXElMKH52",
    "outputId": "a2e16280-5db3-48f5-ed2d-3ec7b3a02e96"
   },
   "outputs": [
    {
     "name": "stdout",
     "output_type": "stream",
     "text": [
      "Drive already mounted at /content/drive; to attempt to forcibly remount, call drive.mount(\"/content/drive\", force_remount=True).\n"
     ]
    }
   ],
   "source": [
    "from google.colab import drive\n",
    "drive.mount('/content/drive')"
   ]
  },
  {
   "cell_type": "markdown",
   "id": "83725905",
   "metadata": {
    "id": "83725905"
   },
   "source": [
    "## Define search parameters & retrieve specimen media records\n",
    "\n",
    "First, we need to find all the media records for which we are interested in downloading media files. Do this using the `search_media` function from the idigbio package, which allows you to search for media records based on data contained in linked specimen records, like species or collecting locality. You can learn more about this function from the [iDigBio API documentation](https://github.com/iDigBio/idigbio-search-api/wiki) and [iDigBio Python package documentation](https://pypi.org/project/idigbio/). In this example, we want to search for images of herbarium specimens of species in the genus _Prunus_ that were collected in the United States."
   ]
  },
  {
   "cell_type": "code",
   "execution_count": 5,
   "id": "db7d6c68",
   "metadata": {
    "id": "db7d6c68",
    "scrolled": true
   },
   "outputs": [],
   "source": [
    "# Load idigbio package\n",
    "import idigbio\n",
    "\n",
    "# Load pandas package\n",
    "import pandas\n",
    "\n",
    "# Specify that we want to return results as a dataframe\n",
    "api = idigbio.pandas()\n",
    "\n",
    "# Execute the search with a limit on retrieving only 10 results\n",
    "mediarecords = api.search_media(rq={'genus': 'prunus',\n",
    "                                    'specificepithet': 'virginiana',\n",
    "                                    'country': 'united states',\n",
    "                                    'stateprovince': 'california',\n",
    "                                    'hasImage': True},\n",
    "                                limit = 10)"
   ]
  },
  {
   "cell_type": "markdown",
   "id": "f8e2f81d",
   "metadata": {
    "id": "f8e2f81d"
   },
   "source": [
    "As a result of the code above, we now have a dataframe called `mediarecords`. Here's a peak into some of the important fields contained in this dataframe:"
   ]
  },
  {
   "cell_type": "code",
   "execution_count": 6,
   "id": "5eea20d2",
   "metadata": {
    "colab": {
     "base_uri": "https://localhost:8080/",
     "height": 394
    },
    "id": "5eea20d2",
    "outputId": "b29247f8-0cbe-4f08-ae12-fdca05832afe"
   },
   "outputs": [
    {
     "data": {
      "text/html": [
       "<div>\n",
       "<style scoped>\n",
       "    .dataframe tbody tr th:only-of-type {\n",
       "        vertical-align: middle;\n",
       "    }\n",
       "\n",
       "    .dataframe tbody tr th {\n",
       "        vertical-align: top;\n",
       "    }\n",
       "\n",
       "    .dataframe thead th {\n",
       "        text-align: right;\n",
       "    }\n",
       "</style>\n",
       "<table border=\"1\" class=\"dataframe\">\n",
       "  <thead>\n",
       "    <tr style=\"text-align: right;\">\n",
       "      <th></th>\n",
       "      <th>accessuri</th>\n",
       "      <th>rights</th>\n",
       "      <th>format</th>\n",
       "      <th>records</th>\n",
       "    </tr>\n",
       "    <tr>\n",
       "      <th>uuid</th>\n",
       "      <th></th>\n",
       "      <th></th>\n",
       "      <th></th>\n",
       "      <th></th>\n",
       "    </tr>\n",
       "  </thead>\n",
       "  <tbody>\n",
       "    <tr>\n",
       "      <th>746be923-1101-431d-a208-c2ca81ecb552</th>\n",
       "      <td>http://sweetgum.nybg.org/images3/2393/565/0284...</td>\n",
       "      <td>BY</td>\n",
       "      <td>image/jpeg</td>\n",
       "      <td>[8d63f249-4cdd-40dc-8f52-869595e24bf8]</td>\n",
       "    </tr>\n",
       "    <tr>\n",
       "      <th>dfded92f-f88c-445c-9109-c7b418c67d77</th>\n",
       "      <td>http://sweetgum.nybg.org/images3/2393/561/0284...</td>\n",
       "      <td>BY</td>\n",
       "      <td>image/jpeg</td>\n",
       "      <td>[b1fe89e4-e7e0-4824-b568-e945171e9a4e]</td>\n",
       "    </tr>\n",
       "    <tr>\n",
       "      <th>acf8b7ce-1176-4997-bdcc-a0f3abd3ea0d</th>\n",
       "      <td>http://sweetgum.nybg.org/images3/2396/296/0285...</td>\n",
       "      <td>BY</td>\n",
       "      <td>image/jpeg</td>\n",
       "      <td>[7fb8ae20-81ae-443f-ae35-fae2a87bcc4f]</td>\n",
       "    </tr>\n",
       "    <tr>\n",
       "      <th>a4b75132-2ff9-41de-90dc-0abcf2d4f2a8</th>\n",
       "      <td>http://sweetgum.nybg.org/images3/2393/396/0284...</td>\n",
       "      <td>BY</td>\n",
       "      <td>image/jpeg</td>\n",
       "      <td>[63b911af-209e-4e2e-8c6c-fa7d7e1c9c22]</td>\n",
       "    </tr>\n",
       "    <tr>\n",
       "      <th>405912ac-e15e-4675-a5fb-deae5307618f</th>\n",
       "      <td>http://sweetgum.nybg.org/images3/1995/964/0084...</td>\n",
       "      <td>BY</td>\n",
       "      <td>image/jpeg</td>\n",
       "      <td>[3f9aa31b-b091-41b6-8839-2ff03ae34102]</td>\n",
       "    </tr>\n",
       "    <tr>\n",
       "      <th>7e0f43e8-87ba-410a-a058-98f6c08596cc</th>\n",
       "      <td>http://sweetgum.nybg.org/images3/2393/551/0284...</td>\n",
       "      <td>BY</td>\n",
       "      <td>image/jpeg</td>\n",
       "      <td>[d4aa2fa4-b5e7-4cd8-a8a6-28e1b070391e]</td>\n",
       "    </tr>\n",
       "    <tr>\n",
       "      <th>053267db-19c1-4101-8c35-c935eaeca519</th>\n",
       "      <td>http://sweetgum.nybg.org/images3/2394/078/0285...</td>\n",
       "      <td>BY</td>\n",
       "      <td>image/jpeg</td>\n",
       "      <td>[840da8d7-b5aa-45bd-9b45-1881487c7263]</td>\n",
       "    </tr>\n",
       "    <tr>\n",
       "      <th>22f7628e-b72c-4c89-9488-159e836a9dd3</th>\n",
       "      <td>http://sweetgum.nybg.org/images3/2388/042/0284...</td>\n",
       "      <td>BY</td>\n",
       "      <td>image/jpeg</td>\n",
       "      <td>[dd64810d-bf27-4325-8d41-5ede7e44489a]</td>\n",
       "    </tr>\n",
       "    <tr>\n",
       "      <th>81aeb810-794f-46e1-bbd4-7e40f5c62877</th>\n",
       "      <td>http://sweetgum.nybg.org/images3/2396/304/0285...</td>\n",
       "      <td>BY</td>\n",
       "      <td>image/jpeg</td>\n",
       "      <td>[fa98d20a-b68f-4898-b3d2-4f4a94db71e2]</td>\n",
       "    </tr>\n",
       "    <tr>\n",
       "      <th>5be42681-aa8f-4be3-a087-b01b26a7d0ba</th>\n",
       "      <td>http://sweetgum.nybg.org/images3/1995/998/0084...</td>\n",
       "      <td>BY</td>\n",
       "      <td>image/jpeg</td>\n",
       "      <td>[8e9dfaeb-accb-4636-bbcb-a35b8ec587ed]</td>\n",
       "    </tr>\n",
       "  </tbody>\n",
       "</table>\n",
       "</div>"
      ],
      "text/plain": [
       "                                                                              accessuri  ...                                 records\n",
       "uuid                                                                                     ...                                        \n",
       "746be923-1101-431d-a208-c2ca81ecb552  http://sweetgum.nybg.org/images3/2393/565/0284...  ...  [8d63f249-4cdd-40dc-8f52-869595e24bf8]\n",
       "dfded92f-f88c-445c-9109-c7b418c67d77  http://sweetgum.nybg.org/images3/2393/561/0284...  ...  [b1fe89e4-e7e0-4824-b568-e945171e9a4e]\n",
       "acf8b7ce-1176-4997-bdcc-a0f3abd3ea0d  http://sweetgum.nybg.org/images3/2396/296/0285...  ...  [7fb8ae20-81ae-443f-ae35-fae2a87bcc4f]\n",
       "a4b75132-2ff9-41de-90dc-0abcf2d4f2a8  http://sweetgum.nybg.org/images3/2393/396/0284...  ...  [63b911af-209e-4e2e-8c6c-fa7d7e1c9c22]\n",
       "405912ac-e15e-4675-a5fb-deae5307618f  http://sweetgum.nybg.org/images3/1995/964/0084...  ...  [3f9aa31b-b091-41b6-8839-2ff03ae34102]\n",
       "7e0f43e8-87ba-410a-a058-98f6c08596cc  http://sweetgum.nybg.org/images3/2393/551/0284...  ...  [d4aa2fa4-b5e7-4cd8-a8a6-28e1b070391e]\n",
       "053267db-19c1-4101-8c35-c935eaeca519  http://sweetgum.nybg.org/images3/2394/078/0285...  ...  [840da8d7-b5aa-45bd-9b45-1881487c7263]\n",
       "22f7628e-b72c-4c89-9488-159e836a9dd3  http://sweetgum.nybg.org/images3/2388/042/0284...  ...  [dd64810d-bf27-4325-8d41-5ede7e44489a]\n",
       "81aeb810-794f-46e1-bbd4-7e40f5c62877  http://sweetgum.nybg.org/images3/2396/304/0285...  ...  [fa98d20a-b68f-4898-b3d2-4f4a94db71e2]\n",
       "5be42681-aa8f-4be3-a087-b01b26a7d0ba  http://sweetgum.nybg.org/images3/1995/998/0084...  ...  [8e9dfaeb-accb-4636-bbcb-a35b8ec587ed]\n",
       "\n",
       "[10 rows x 4 columns]"
      ]
     },
     "execution_count": 6,
     "metadata": {
      "tags": []
     },
     "output_type": "execute_result"
    }
   ],
   "source": [
    "mediarecords[['accessuri','rights','format','records']]"
   ]
  },
  {
   "cell_type": "markdown",
   "id": "2ff89a58",
   "metadata": {
    "id": "2ff89a58"
   },
   "source": [
    "## Download media associated with these specimen records\n",
    "\n",
    "Now that we know what media records are of interest to us, we need to isolate the URLs that link to the actual media files so that we can download them. In this example, we will demonstrate how to download files that are cached on the iDigBio server, as well as the original files hosted externally by the data provider. It is unlikely that you need to download two sets of images, so you can choose to execute either the steps related to \"iDigBio\" or to \"external,\" depending on your preference."
   ]
  },
  {
   "cell_type": "markdown",
   "id": "aecebb8e",
   "metadata": {
    "id": "aecebb8e"
   },
   "source": [
    "_The code block below will assemble a vector of download URLs for media files on the iDigBio server._"
   ]
  },
  {
   "cell_type": "code",
   "execution_count": 7,
   "id": "c92cbf40",
   "metadata": {
    "colab": {
     "base_uri": "https://localhost:8080/"
    },
    "id": "c92cbf40",
    "outputId": "3dbf7e2d-d85b-4ef1-c832-80d4fcb55186",
    "scrolled": true
   },
   "outputs": [
    {
     "name": "stdout",
     "output_type": "stream",
     "text": [
      "https://api.idigbio.org/v2/media/746be923-1101-431d-a208-c2ca81ecb552?size=webview\n",
      "https://api.idigbio.org/v2/media/dfded92f-f88c-445c-9109-c7b418c67d77?size=webview\n",
      "https://api.idigbio.org/v2/media/acf8b7ce-1176-4997-bdcc-a0f3abd3ea0d?size=webview\n",
      "https://api.idigbio.org/v2/media/a4b75132-2ff9-41de-90dc-0abcf2d4f2a8?size=webview\n",
      "https://api.idigbio.org/v2/media/405912ac-e15e-4675-a5fb-deae5307618f?size=webview\n",
      "https://api.idigbio.org/v2/media/7e0f43e8-87ba-410a-a058-98f6c08596cc?size=webview\n",
      "https://api.idigbio.org/v2/media/053267db-19c1-4101-8c35-c935eaeca519?size=webview\n",
      "https://api.idigbio.org/v2/media/22f7628e-b72c-4c89-9488-159e836a9dd3?size=webview\n",
      "https://api.idigbio.org/v2/media/81aeb810-794f-46e1-bbd4-7e40f5c62877?size=webview\n",
      "https://api.idigbio.org/v2/media/5be42681-aa8f-4be3-a087-b01b26a7d0ba?size=webview\n"
     ]
    }
   ],
   "source": [
    "# Pull UUID values out of the `mediarecords` dataframe and into a list data structure\n",
    "uuids = mediarecords.index.tolist()\n",
    "\n",
    "# Set standard URL prefix for files cached on the iDigBio server\n",
    "append_str = 'https://api.idigbio.org/v2/media/'\n",
    "\n",
    "# Define a URL suffix to specify we want to download the webview size images.\n",
    "# These are derivatives that iDigBio creates at 600px width + length adjusted\n",
    "# proportionally to whatever it needs to be to preserve the correct aspect ratio.\n",
    "# You can download higher resolution images by changing this string to '?size=fullsize'\n",
    "suffix_str = '?size=webview'\n",
    "\n",
    "# Create list of iDigBio media URLs by concatenating the prefix above with the\n",
    "# UUID values from `mediarecords`\n",
    "mediaurl_idigbio = [append_str + sub + suffix_str for sub in uuids]\n",
    "\n",
    "# Show us what we just made\n",
    "for i in mediaurl_idigbio: print(i)"
   ]
  },
  {
   "cell_type": "markdown",
   "id": "e45a361d",
   "metadata": {
    "id": "e45a361d"
   },
   "source": [
    "_The code block below will assemble a vector of download URLs for data providers' original media files stored on external servers._"
   ]
  },
  {
   "cell_type": "code",
   "execution_count": 8,
   "id": "6b1d79c7",
   "metadata": {
    "colab": {
     "base_uri": "https://localhost:8080/"
    },
    "id": "6b1d79c7",
    "outputId": "e006e11a-6a07-44cb-bce5-c4eb1f459692"
   },
   "outputs": [
    {
     "name": "stdout",
     "output_type": "stream",
     "text": [
      "http://sweetgum.nybg.org/images3/2393/565/02849694.jpg\n",
      "http://sweetgum.nybg.org/images3/2393/561/02849690.jpg\n",
      "http://sweetgum.nybg.org/images3/2396/296/02853612.jpg\n",
      "http://sweetgum.nybg.org/images3/2393/396/02849346.jpg\n",
      "http://sweetgum.nybg.org/images3/1995/964/00849143.jpg\n",
      "http://sweetgum.nybg.org/images3/2393/551/02849679.jpg\n",
      "http://sweetgum.nybg.org/images3/2394/078/02851504.jpg\n",
      "http://sweetgum.nybg.org/images3/2388/042/02848831.jpg\n",
      "http://sweetgum.nybg.org/images3/2396/304/02853620.jpg\n",
      "http://sweetgum.nybg.org/images3/1995/998/00849283.jpg\n"
     ]
    }
   ],
   "source": [
    "# Create list of external media URLs by pulling values for `accessuri` out of `mediarecords`\n",
    "mediaurl_external = mediarecords.accessuri.tolist()\n",
    "\n",
    "# Show us what we just made\n",
    "for i in mediaurl_external: print(i)"
   ]
  },
  {
   "cell_type": "markdown",
   "id": "e443f50b",
   "metadata": {
    "id": "e443f50b"
   },
   "source": [
    "## Downloading images\n",
    "\n",
    "We can use the download URLs that we assembled in the step above to go and download each media file. For clarity, we will place files in two different folders, based on whether we downloaded them from the iDigBio server or an external server.\n",
    "\n",
    "We want to download these files onto our Google Drive so that we can access them later."
   ]
  },
  {
   "cell_type": "code",
   "execution_count": 9,
   "id": "QFjdYZoRVaQ0",
   "metadata": {
    "colab": {
     "base_uri": "https://localhost:8080/"
    },
    "id": "QFjdYZoRVaQ0",
    "outputId": "05c82644-30c7-4b2a-8fb8-e6adbd255e12"
   },
   "outputs": [
    {
     "name": "stdout",
     "output_type": "stream",
     "text": [
      "/content/drive/MyDrive/Colab Notebooks\n"
     ]
    }
   ],
   "source": [
    "# Navigate into your Google Drive to set up creating new directories in late steps;\n",
    "# Note that you may need to create the directory '/Colab Notebooks' (it is created\n",
    "# automatically by Colab the first time you save a notebook)\n",
    "%cd drive/MyDrive/Colab\\ Notebooks/"
   ]
  },
  {
   "cell_type": "markdown",
   "id": "8f8c783f",
   "metadata": {
    "id": "8f8c783f"
   },
   "source": [
    "_The code blocks below will download media files from the iDigBio server and store them in a folder on your Google Drive._"
   ]
  },
  {
   "cell_type": "markdown",
   "id": "2eALf3CFawyz",
   "metadata": {
    "id": "2eALf3CFawyz"
   },
   "source": [
    "When we download our images, we want to organize them in a way that facilitates research later on. One strategy for this is to keep your directory structure organized. We will exemplify this strategy by creating a new directory named with the image file source (iDigBio) and a reminder about the image content (_Prunus_)."
   ]
  },
  {
   "cell_type": "code",
   "execution_count": 10,
   "id": "YNq3kmkXV2hM",
   "metadata": {
    "id": "YNq3kmkXV2hM"
   },
   "outputs": [],
   "source": [
    "# Create new directory\n",
    "!mkdir idigbio_prunus"
   ]
  },
  {
   "cell_type": "code",
   "execution_count": 11,
   "id": "JFO6lGikPmXY",
   "metadata": {
    "colab": {
     "base_uri": "https://localhost:8080/"
    },
    "id": "JFO6lGikPmXY",
    "outputId": "d5ab9121-350c-4416-efb7-1cecbc5e7ac2"
   },
   "outputs": [
    {
     "name": "stdout",
     "output_type": "stream",
     "text": [
      "Image sucessfully Downloaded:  idigbio_prunus/746be923-1101-431d-a208-c2ca81ecb552.jpg\n",
      "Image sucessfully Downloaded:  idigbio_prunus/dfded92f-f88c-445c-9109-c7b418c67d77.jpg\n",
      "Image sucessfully Downloaded:  idigbio_prunus/acf8b7ce-1176-4997-bdcc-a0f3abd3ea0d.jpg\n",
      "Image sucessfully Downloaded:  idigbio_prunus/a4b75132-2ff9-41de-90dc-0abcf2d4f2a8.jpg\n",
      "Image sucessfully Downloaded:  idigbio_prunus/405912ac-e15e-4675-a5fb-deae5307618f.jpg\n",
      "Image sucessfully Downloaded:  idigbio_prunus/7e0f43e8-87ba-410a-a058-98f6c08596cc.jpg\n",
      "Image sucessfully Downloaded:  idigbio_prunus/053267db-19c1-4101-8c35-c935eaeca519.jpg\n",
      "Image sucessfully Downloaded:  idigbio_prunus/22f7628e-b72c-4c89-9488-159e836a9dd3.jpg\n",
      "Image sucessfully Downloaded:  idigbio_prunus/81aeb810-794f-46e1-bbd4-7e40f5c62877.jpg\n",
      "Image sucessfully Downloaded:  idigbio_prunus/5be42681-aa8f-4be3-a087-b01b26a7d0ba.jpg\n"
     ]
    }
   ],
   "source": [
    "# Load requests package\n",
    "import requests \n",
    "\n",
    "# Initiate loop that will iterate through our list of URLs and download the file found at each\n",
    "for i in mediaurl_idigbio:\n",
    "\n",
    "    # Define what values we are iterating through\n",
    "    image_url = i\n",
    "    \n",
    "    # Define a filename based on the UUID of the media record\n",
    "    filename = 'idigbio_prunus/' + image_url.split('/')[-1].replace('?size=webview','') + '.jpg'\n",
    "    \n",
    "    # Begin the process of downloading a file\n",
    "    r = requests.get(image_url, stream = True)\n",
    "\n",
    "    # Check that the file can be retrieved successfully\n",
    "    if r.status_code == 200:\n",
    "        \n",
    "        # Set this otherwise the downloaded image file size will be zero\n",
    "        r.raw.decode_content = True\n",
    "    \n",
    "        # Open a local file\n",
    "        with open(filename, 'wb') as file:\n",
    "            for block in r.iter_content(chunk_size = 1024):\n",
    "                if block: \n",
    "                    file.write(block) \n",
    "        \n",
    "        # Report back on how things went\n",
    "        print('Image sucessfully Downloaded: ',filename)\n",
    "    else:\n",
    "        print('Image Couldn\\'t be retreived')    "
   ]
  },
  {
   "cell_type": "markdown",
   "id": "xg1KIhw8YuYj",
   "metadata": {
    "id": "xg1KIhw8YuYj"
   },
   "source": [
    "_The code block below will download media files hosted externally by data providers and store them in a folder on your Google Drive._"
   ]
  },
  {
   "cell_type": "markdown",
   "id": "Zx5XDs1Sb724",
   "metadata": {
    "id": "Zx5XDs1Sb724"
   },
   "source": [
    "As with the iDigBio example above, we want to first create a new directory named with the image file source (external, in this case) and a reminder about the image content (_Prunus_)."
   ]
  },
  {
   "cell_type": "code",
   "execution_count": 12,
   "id": "DT48W5WNaX6y",
   "metadata": {
    "id": "DT48W5WNaX6y"
   },
   "outputs": [],
   "source": [
    "# Create new directory\n",
    "!mkdir external_prunus"
   ]
  },
  {
   "cell_type": "code",
   "execution_count": 13,
   "id": "6fa3586d",
   "metadata": {
    "colab": {
     "base_uri": "https://localhost:8080/"
    },
    "id": "6fa3586d",
    "outputId": "526acac3-1743-4219-b0cb-fd203582f1cf"
   },
   "outputs": [
    {
     "name": "stdout",
     "output_type": "stream",
     "text": [
      "Image sucessfully Downloaded:  external_prunus/02849694.jpg\n",
      "Image sucessfully Downloaded:  external_prunus/02849690.jpg\n",
      "Image sucessfully Downloaded:  external_prunus/02853612.jpg\n",
      "Image sucessfully Downloaded:  external_prunus/02849346.jpg\n",
      "Image sucessfully Downloaded:  external_prunus/00849143.jpg\n",
      "Image sucessfully Downloaded:  external_prunus/02849679.jpg\n",
      "Image sucessfully Downloaded:  external_prunus/02851504.jpg\n",
      "Image sucessfully Downloaded:  external_prunus/02848831.jpg\n",
      "Image sucessfully Downloaded:  external_prunus/02853620.jpg\n",
      "Image sucessfully Downloaded:  external_prunus/00849283.jpg\n"
     ]
    }
   ],
   "source": [
    "# Load requests package\n",
    "import requests\n",
    "\n",
    "# Initiate loop that will iterate through our list of URLs and download the file found at each\n",
    "for i in mediaurl_external:\n",
    "\n",
    "    # Define what values we are iterating through\n",
    "    image_url = i\n",
    "    \n",
    "    # Define a filename based on the UUID of the media record\n",
    "    filename = 'external_prunus/' + image_url.split('/')[-1]    \n",
    "\n",
    "    # Begin the process of downloading a file\n",
    "    r = requests.get(image_url, stream = True)\n",
    "\n",
    "    # Check that the file can be retrieved successfully\n",
    "    if r.status_code == 200:\n",
    "        \n",
    "        # Set this otherwise the downloaded image file size will be zero\n",
    "        r.raw.decode_content = True\n",
    "    \n",
    "        # Open a local file\n",
    "        with open(filename, 'wb') as file:\n",
    "            for block in r.iter_content(chunk_size = 1024):\n",
    "                if block: \n",
    "                    file.write(block)\n",
    "        \n",
    "        # Report back on how things went\n",
    "        print('Image sucessfully Downloaded: ',filename)\n",
    "    else:\n",
    "        print('Image Couldn\\'t be retreived')"
   ]
  },
  {
   "cell_type": "markdown",
   "id": "9d5f1911",
   "metadata": {
    "id": "9d5f1911"
   },
   "source": [
    "## Reviewing media and conducting quality control\n",
    "\n",
    "Once you have acquired your images, you should do a quality control check prior to feeding them into any machine learning application. After all, garbage in = garbage out! Here are a couple examples of tasks that might be included in your quality control workflow:\n",
    "1. Browse through your images manually to visually assess content. Discard any images that are not relevant (e.g. picturing a label rather than a specimen).\n",
    "\n",
    "![ce411b58a0313acd7b4e76dcd668e823.jpg](data:image/jpeg;base64,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)\n",
    "\n",
    "2. Deal with corrupted EXIF data."
   ]
  }
 ],
 "metadata": {
  "colab": {
   "name": "module_3_image_acquisition.ipynb",
   "provenance": []
  },
  "kernelspec": {
   "display_name": "Python 3",
   "language": "python",
   "name": "python3"
  },
  "language_info": {
   "codemirror_mode": {
    "name": "ipython",
    "version": 3
   },
   "file_extension": ".py",
   "mimetype": "text/x-python",
   "name": "python",
   "nbconvert_exporter": "python",
   "pygments_lexer": "ipython3",
   "version": "3.7.6"
  }
 },
 "nbformat": 4,
 "nbformat_minor": 5
}

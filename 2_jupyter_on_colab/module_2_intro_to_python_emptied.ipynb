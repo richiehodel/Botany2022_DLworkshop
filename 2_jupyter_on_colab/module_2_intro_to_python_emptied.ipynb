{
  "cells": [
    {
      "cell_type": "markdown",
      "metadata": {
        "id": "MvyiWuS1ocIU"
      },
      "source": [
        "## Running code cells"
      ]
    },
    {
      "cell_type": "markdown",
      "metadata": {
        "id": "E3_6FvnEocIZ"
      },
      "source": [
        "Once you get into a Colab notebook you can start writing in code cells. \n",
        "What you are reading now is in a markdown cell which allows you to add information to your code."
      ]
    },
    {
      "cell_type": "code",
      "execution_count": null,
      "metadata": {
        "ExecuteTime": {
          "end_time": "2021-07-17T16:28:41.666753Z",
          "start_time": "2021-07-17T16:28:41.655703Z"
        },
        "id": "lKA8-y94ocIa"
      },
      "outputs": [],
      "source": [
        ""
      ]
    },
    {
      "cell_type": "code",
      "execution_count": null,
      "metadata": {
        "ExecuteTime": {
          "end_time": "2021-07-17T16:28:41.673389Z",
          "start_time": "2021-07-17T16:28:41.669424Z"
        },
        "id": "SA2rNek_ocIc"
      },
      "outputs": [],
      "source": [
        ""
      ]
    },
    {
      "cell_type": "markdown",
      "metadata": {
        "id": "0DEeURqLocId"
      },
      "source": [
        "## Variables and Data Types"
      ]
    },
    {
      "cell_type": "markdown",
      "metadata": {
        "id": "Le4OVaJNocIe"
      },
      "source": [
        "One of the most basic things we can do in Python is assign values to **variables**:"
      ]
    },
    {
      "cell_type": "code",
      "execution_count": null,
      "metadata": {
        "ExecuteTime": {
          "end_time": "2021-07-17T16:28:41.679774Z",
          "start_time": "2021-07-17T16:28:41.676529Z"
        },
        "id": "Vxb_euVmocIe"
      },
      "outputs": [],
      "source": [
        ""
      ]
    },
    {
      "cell_type": "markdown",
      "metadata": {
        "id": "5KTuIyuDocIf"
      },
      "source": [
        "Here we’ve assigned data to the variables *text*, *number* and *pi_value*, using the assignment operator =. \n",
        "To review the value of a variable, we can type the name of the variable into the interpreter and press *Shift* *Return*:"
      ]
    },
    {
      "cell_type": "code",
      "execution_count": null,
      "metadata": {
        "ExecuteTime": {
          "end_time": "2021-07-17T16:28:41.693145Z",
          "start_time": "2021-07-17T16:28:41.682996Z"
        },
        "id": "ZSz3HRPJocIg"
      },
      "outputs": [],
      "source": [
        ""
      ]
    },
    {
      "cell_type": "markdown",
      "source": [
        "Python only displays the object that appears in the last line of the code."
      ],
      "metadata": {
        "id": "6ere3PNxFJYf"
      }
    },
    {
      "cell_type": "code",
      "source": [
        ""
      ],
      "metadata": {
        "id": "Y4WRvPxeFHAs"
      },
      "execution_count": null,
      "outputs": []
    },
    {
      "cell_type": "markdown",
      "source": [
        "You have to tell python if you want to display multiple objects from your code."
      ],
      "metadata": {
        "id": "2RkSKOQqFd_p"
      }
    },
    {
      "cell_type": "code",
      "source": [
        ""
      ],
      "metadata": {
        "id": "5SKG1QepFUWV"
      },
      "execution_count": null,
      "outputs": []
    },
    {
      "cell_type": "markdown",
      "metadata": {
        "id": "l1z77oE1ocIh"
      },
      "source": [
        "Everything in Python has a type. To get the type of something, we can pass it to the built-in **function** type:"
      ]
    },
    {
      "cell_type": "code",
      "execution_count": null,
      "metadata": {
        "ExecuteTime": {
          "end_time": "2021-07-17T16:28:41.702379Z",
          "start_time": "2021-07-17T16:28:41.696578Z"
        },
        "id": "D_ucWb19ocIi"
      },
      "outputs": [],
      "source": [
        ""
      ]
    },
    {
      "cell_type": "code",
      "execution_count": null,
      "metadata": {
        "ExecuteTime": {
          "end_time": "2021-07-17T16:28:41.711255Z",
          "start_time": "2021-07-17T16:28:41.705546Z"
        },
        "id": "NR8lFqhYocIj"
      },
      "outputs": [],
      "source": [
        ""
      ]
    },
    {
      "cell_type": "code",
      "execution_count": null,
      "metadata": {
        "ExecuteTime": {
          "end_time": "2021-07-17T16:28:41.719762Z",
          "start_time": "2021-07-17T16:28:41.714454Z"
        },
        "id": "FKbwg_jFocIj"
      },
      "outputs": [],
      "source": [
        ""
      ]
    },
    {
      "cell_type": "markdown",
      "source": [
        "Notice that a string (str) is what python calls text. A string always needs to be enclosed in double or single quotation marks. "
      ],
      "metadata": {
        "id": "2TX5PR6vLUL-"
      }
    },
    {
      "cell_type": "code",
      "source": [
        ""
      ],
      "metadata": {
        "id": "cTQrA-rKLR5E"
      },
      "execution_count": null,
      "outputs": []
    },
    {
      "cell_type": "markdown",
      "metadata": {
        "id": "92hw5-AuocIk"
      },
      "source": [
        "We can also use comparison and logic operators: <, >, ==, !=, <=, >=. The data type returned by this is called a **boolean**.\n",
        "Notice that we use == as an operator and = to assign a variable.\n"
      ]
    },
    {
      "cell_type": "code",
      "execution_count": null,
      "metadata": {
        "ExecuteTime": {
          "end_time": "2021-07-17T16:28:41.730475Z",
          "start_time": "2021-07-17T16:28:41.724186Z"
        },
        "id": "H_VZrOs3ocIk"
      },
      "outputs": [],
      "source": [
        ""
      ]
    },
    {
      "cell_type": "code",
      "execution_count": null,
      "metadata": {
        "ExecuteTime": {
          "end_time": "2021-07-17T16:28:41.741027Z",
          "start_time": "2021-07-17T16:28:41.733971Z"
        },
        "id": "amcs-MOJocIl"
      },
      "outputs": [],
      "source": [
        ""
      ]
    },
    {
      "cell_type": "code",
      "source": [
        ""
      ],
      "metadata": {
        "id": "CmknA1UdEXdM"
      },
      "execution_count": null,
      "outputs": []
    },
    {
      "cell_type": "markdown",
      "metadata": {
        "id": "ZmW8nwPDocIl"
      },
      "source": [
        "### Collections: Lists and Dictionaries"
      ]
    },
    {
      "cell_type": "markdown",
      "metadata": {
        "id": "rn3l9q2uocIl"
      },
      "source": [
        "A **list** is a common data structure to hold an ordered sequence of elements. Each element can be accessed by an index. Note that Python indexes start with 0 instead of 1:"
      ]
    },
    {
      "cell_type": "code",
      "execution_count": null,
      "metadata": {
        "ExecuteTime": {
          "end_time": "2021-07-17T16:44:26.562359Z",
          "start_time": "2021-07-17T16:44:26.557943Z"
        },
        "id": "svpM8rofocIm"
      },
      "outputs": [],
      "source": [
        ""
      ]
    },
    {
      "cell_type": "markdown",
      "metadata": {
        "id": "YuwWFNMUocIm"
      },
      "source": [
        "To add elements to the end of a list, we can use the append **method**. Methods are a way to interact with an object (a list, for example). We can invoke a method using the dot . followed by the method name and a list of arguments in parentheses. Let’s look at an example using append:"
      ]
    },
    {
      "cell_type": "code",
      "execution_count": null,
      "metadata": {
        "ExecuteTime": {
          "end_time": "2021-07-17T16:55:36.189115Z",
          "start_time": "2021-07-17T16:55:36.184366Z"
        },
        "id": "9sVCBvH2ocIm"
      },
      "outputs": [],
      "source": [
        ""
      ]
    },
    {
      "cell_type": "markdown",
      "metadata": {
        "id": "aJ2l56ddocIn"
      },
      "source": [
        "A **dictionary** is a container that holds pairs of objects - **keys** and **values.**"
      ]
    },
    {
      "cell_type": "code",
      "execution_count": null,
      "metadata": {
        "ExecuteTime": {
          "end_time": "2021-07-17T17:10:21.572386Z",
          "start_time": "2021-07-17T17:10:21.568562Z"
        },
        "id": "uXc6k2YGocIn"
      },
      "outputs": [],
      "source": [
        ""
      ]
    },
    {
      "cell_type": "markdown",
      "metadata": {
        "id": "SJWjh6_RocIn"
      },
      "source": [
        "Dictionaries work a lot like lists. Where lists were given indexes starting at 0 by Python, in dictionaries you index them with keys. You can think about a key as a name or unique identifier for the value it corresponds to.\n",
        "\n",
        "To add an item to the dictionary we assign a value to a new key:"
      ]
    },
    {
      "cell_type": "code",
      "execution_count": null,
      "metadata": {
        "ExecuteTime": {
          "end_time": "2021-07-17T17:11:06.484681Z",
          "start_time": "2021-07-17T17:11:06.481038Z"
        },
        "id": "H4z-FXm0ocIn"
      },
      "outputs": [],
      "source": [
        ""
      ]
    },
    {
      "cell_type": "markdown",
      "metadata": {
        "id": "QBIItbdTocIq"
      },
      "source": [
        "## Python packages"
      ]
    },
    {
      "cell_type": "markdown",
      "metadata": {
        "id": "hm5VJmDBocIq"
      },
      "source": [
        "A Python package (or library) is a collection of custom functions and data types for use by other programs.\n",
        "\n",
        "You can import a Python package with the *import* keyword."
      ]
    },
    {
      "cell_type": "markdown",
      "metadata": {
        "id": "A44FOPMoocIq"
      },
      "source": [
        "A very commonly used Python package for working with data is called *pandas*. Let's import pandas to create a custom dataframe."
      ]
    },
    {
      "cell_type": "code",
      "execution_count": null,
      "metadata": {
        "id": "73DRYLJAocIq"
      },
      "outputs": [],
      "source": [
        ""
      ]
    },
    {
      "cell_type": "markdown",
      "metadata": {
        "id": "mWWdQWEYocIr"
      },
      "source": [
        "Let's make a list of dictionaries to feed into pandas."
      ]
    },
    {
      "cell_type": "code",
      "execution_count": null,
      "metadata": {
        "id": "6xPwvXfqocIr"
      },
      "outputs": [],
      "source": [
        ""
      ]
    },
    {
      "cell_type": "markdown",
      "source": [
        "We can then use the dataframe method to turn this dictionary into a dataframe."
      ],
      "metadata": {
        "id": "LJmkOM34ptDx"
      }
    },
    {
      "cell_type": "code",
      "source": [
        ""
      ],
      "metadata": {
        "id": "WgM5UiJ7ptqN"
      },
      "execution_count": null,
      "outputs": []
    },
    {
      "cell_type": "markdown",
      "source": [
        "We can use the type function to find out what the df variable is."
      ],
      "metadata": {
        "id": "lNFVAy93qW76"
      }
    },
    {
      "cell_type": "code",
      "execution_count": null,
      "metadata": {
        "id": "0nXMu7SxocIr"
      },
      "outputs": [],
      "source": [
        ""
      ]
    },
    {
      "cell_type": "markdown",
      "source": [
        "Python will return the first 5 and last 5 rows of a dataframe. Here we only have 2."
      ],
      "metadata": {
        "id": "TvlxnGUKqa1D"
      }
    },
    {
      "cell_type": "code",
      "execution_count": null,
      "metadata": {
        "id": "OxB4kUd8ocIr"
      },
      "outputs": [],
      "source": [
        ""
      ]
    },
    {
      "cell_type": "markdown",
      "source": [
        "We can also use the info function to find out more about our dataframe. "
      ],
      "metadata": {
        "id": "84yuOH7gqocF"
      }
    },
    {
      "cell_type": "code",
      "execution_count": null,
      "metadata": {
        "id": "GbtLPxpdocIr"
      },
      "outputs": [],
      "source": [
        ""
      ]
    },
    {
      "cell_type": "markdown",
      "source": [
        "Once you create a dataframe you may want to save it as a csv. You can do this using the .to_csv method."
      ],
      "metadata": {
        "id": "0g-IFkpZrhQD"
      }
    },
    {
      "cell_type": "code",
      "execution_count": null,
      "metadata": {
        "id": "hxT77TmLocIs"
      },
      "outputs": [],
      "source": [
        ""
      ]
    },
    {
      "cell_type": "markdown",
      "source": [
        "You can also reimport a dataframe using the .read_csv method. If you already have a dataframe you're working on, in excel for example, this is a good way to move it into pandas. Notice that the dataframe was saved with Python's row labels.\n"
      ],
      "metadata": {
        "id": "Yx2TE41qrxFD"
      }
    },
    {
      "cell_type": "code",
      "source": [
        ""
      ],
      "metadata": {
        "id": "SYp2BVs1r42F"
      },
      "execution_count": null,
      "outputs": []
    },
    {
      "cell_type": "markdown",
      "source": [
        "To save without the row labels, set index to false."
      ],
      "metadata": {
        "id": "VSgTvYNWH6JL"
      }
    },
    {
      "cell_type": "code",
      "source": [
        ""
      ],
      "metadata": {
        "id": "SJEIXw1gH28P"
      },
      "execution_count": null,
      "outputs": []
    },
    {
      "cell_type": "code",
      "source": [
        ""
      ],
      "metadata": {
        "id": "748P7isVH55W"
      },
      "execution_count": null,
      "outputs": []
    }
  ],
  "metadata": {
    "kernelspec": {
      "display_name": "Python 3",
      "language": "python",
      "name": "python3"
    },
    "language_info": {
      "codemirror_mode": {
        "name": "ipython",
        "version": 3
      },
      "file_extension": ".py",
      "mimetype": "text/x-python",
      "name": "python",
      "nbconvert_exporter": "python",
      "pygments_lexer": "ipython3",
      "version": "3.7.6"
    },
    "colab": {
      "name": "module_2_intro_to_python_complete-emptied.ipynb",
      "provenance": [],
      "collapsed_sections": []
    }
  },
  "nbformat": 4,
  "nbformat_minor": 0
}
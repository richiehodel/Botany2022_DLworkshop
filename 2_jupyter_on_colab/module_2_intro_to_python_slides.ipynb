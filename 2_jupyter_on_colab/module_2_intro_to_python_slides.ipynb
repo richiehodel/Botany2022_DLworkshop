{
 "cells": [
  {
   "cell_type": "markdown",
   "id": "5de89bcf",
   "metadata": {
    "slideshow": {
     "slide_type": "slide"
    }
   },
   "source": [
    "# Introduction to Python, Jupyter, and Colab\n",
    "\n",
    "### Botany Conference 2021 Virtual\n",
    "\n",
    "### July 18, 2021"
   ]
  },
  {
   "cell_type": "markdown",
   "id": "431722dd",
   "metadata": {
    "slideshow": {
     "slide_type": "slide"
    }
   },
   "source": [
    "## What is Python? \t\n",
    "\n",
    "Python is an \n",
    "* interpreted\n",
    "* general-purpose\n",
    "* open source\n",
    "\n",
    "programming language, that has been around since 1991."
   ]
  },
  {
   "cell_type": "markdown",
   "id": "93ae0e72",
   "metadata": {
    "slideshow": {
     "slide_type": "slide"
    }
   },
   "source": [
    "![Python growth](https://149351115.v2.pressablecdn.com/wp-content/uploads/2017/09/growth_major_languages-1-1400x1200.png)\n",
    "\n",
    "(*Taken from https://stackoverflow.blog/2017/09/06/incredible-growth-python/*)"
   ]
  },
  {
   "cell_type": "markdown",
   "id": "a94b93d3",
   "metadata": {
    "slideshow": {
     "slide_type": "slide"
    }
   },
   "source": [
    "## What is Jupyter?\n",
    "\n",
    "Originally called iPython Notebooks, Jupyter provides an interactive *literative* programming interface to Python code."
   ]
  },
  {
   "cell_type": "markdown",
   "id": "6d37e926",
   "metadata": {
    "slideshow": {
     "slide_type": "slide"
    }
   },
   "source": [
    "## What is Google Colab?\n",
    "\n",
    "Google Colab (short for \"Colaboratory\") is a free product of Google Research that provides Jupyter notebooks running on Google Cloud hardware."
   ]
  }
 ],
 "metadata": {
  "celltoolbar": "Slideshow",
  "kernelspec": {
   "display_name": "Python 3 (ipykernel)",
   "language": "python",
   "name": "python3"
  },
  "language_info": {
   "codemirror_mode": {
    "name": "ipython",
    "version": 3
   },
   "file_extension": ".py",
   "mimetype": "text/x-python",
   "name": "python",
   "nbconvert_exporter": "python",
   "pygments_lexer": "ipython3",
   "version": "3.9.6"
  },
  "rise": {
   "progress": true,
   "scroll": true,
   "theme": "white"
  }
 },
 "nbformat": 4,
 "nbformat_minor": 5
}
